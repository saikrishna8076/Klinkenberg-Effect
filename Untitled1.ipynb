{
 "cells": [
  {
   "cell_type": "markdown",
   "id": "2270d54a-14b8-44db-b475-0821047ce46a",
   "metadata": {},
   "source": [
    "## KLINKENBERG EFFECT\n",
    "The Klinkenberg effect occurs because gas molecules slip along pore walls, reducing resistance to flow. As a result, gas exhibits higher apparent permeability in porous rocks compared to liquids."
   ]
  },
  {
   "cell_type": "code",
   "execution_count": 2,
   "id": "a22a0e01-9dfe-4d26-a6ae-982be37a2823",
   "metadata": {},
   "outputs": [],
   "source": [
    "import pandas as pd\n",
    "import numpy as np\n",
    "import math\n",
    "import matplotlib.pyplot as plt\n",
    "%matplotlib inline"
   ]
  },
  {
   "cell_type": "code",
   "execution_count": 9,
   "id": "61a2fb24-826b-4c2b-8135-8c1df4877d49",
   "metadata": {},
   "outputs": [],
   "source": [
    "# Function to calculate Klinkenberg corrected permeability\n",
    "def klinkenberg_correction(flow_data, d, L, mu):\n",
    "    flow = pd.DataFrame(flow_data)\n",
    "\n",
    "    # Cross-sectional area\n",
    "    A = math.pi * (d**2) / 4   # cm^2\n",
    "\n",
    "    # Calculate permeability (kg) and mean pressure\n",
    "    flow['kg'] = (2 * flow['q [cm3/s]'] * mu * L) / (A * (flow['P1 [atm]']**2 - flow['P2 [atm]']**2))\n",
    "    flow['P_mean'] = (flow['P1 [atm]'] + flow['P2 [atm]']) / 2\n",
    "\n",
    "    # Linear regression using numpy (more general than 2-point slope)\n",
    "    x = 1 / flow['P_mean']\n",
    "    y = flow['kg']\n",
    "    m, c = np.polyfit(x, y, 1)\n",
    "\n",
    "    print(\"Flow data with calculated permeability:\")\n",
    "    print(flow)\n",
    "    print(\"\\nThe absolute permeability (Klinkenberg corrected) is:\", c, 'Darcy')\n"
   ]
  },
  {
   "cell_type": "code",
   "execution_count": 7,
   "id": "790cdf1d-bb56-4424-a266-6cc94915c14c",
   "metadata": {},
   "outputs": [],
   "source": [
    "# Plotting\n",
    "    x_extended = np.linspace(0, max(x)*1.1, 100)\n",
    "    y_extended = m * x_extended + c\n",
    "\n",
    "    plt.scatter(x, y, color='red', label='Measured data')\n",
    "    plt.plot(x_extended, y_extended, label='Linear fit')\n",
    "    plt.xlabel('1 / P_mean [1/atm]')\n",
    "    plt.ylabel('kg [Darcy]')\n",
    "    plt.title('Klinkenberg Effect')\n",
    "    plt.legend()\n",
    "    plt.grid(True)\n",
    "    plt.show()\n"
   ]
  },
  {
   "cell_type": "code",
   "execution_count": null,
   "id": "9c26ea41-c651-4b7e-b875-5c91a0a59a87",
   "metadata": {},
   "outputs": [],
   "source": []
  }
 ],
 "metadata": {
  "kernelspec": {
   "display_name": "Python 3 (ipykernel)",
   "language": "python",
   "name": "python3"
  },
  "language_info": {
   "codemirror_mode": {
    "name": "ipython",
    "version": 3
   },
   "file_extension": ".py",
   "mimetype": "text/x-python",
   "name": "python",
   "nbconvert_exporter": "python",
   "pygments_lexer": "ipython3",
   "version": "3.12.7"
  }
 },
 "nbformat": 4,
 "nbformat_minor": 5
}
